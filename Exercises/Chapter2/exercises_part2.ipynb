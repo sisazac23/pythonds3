{
 "cells": [
  {
   "attachments": {},
   "cell_type": "markdown",
   "metadata": {},
   "source": [
    "6. Devise an experiment to verify that the list index operator is O(1)."
   ]
  },
  {
   "cell_type": "code",
   "execution_count": 1,
   "metadata": {},
   "outputs": [
    {
     "name": "stdout",
     "output_type": "stream",
     "text": [
      "0.2190653949999941\n",
      "0.18230450299999745\n"
     ]
    }
   ],
   "source": [
    "list1 = list(range(1, 11))\n",
    "list2 = list(range(1, 100000))\n",
    "\n",
    "\n",
    "import timeit\n",
    "import random \n",
    "\n",
    "n = random.randint(0, len(list1)-1)\n",
    "n2 = random.randint(0, len(list2)-1)\n",
    "\n",
    "def test1():\n",
    "    # n is a random index in list1\n",
    "    \n",
    "    return list1[n]\n",
    "print(timeit.timeit(\"test1()\", setup=\"from __main__ import test1\"))\n",
    "\n",
    "# verify with list2\n",
    "def test2():\n",
    "    return list2[n2]\n",
    "print(timeit.timeit(\"test2()\", setup=\"from __main__ import test2\"))"
   ]
  },
  {
   "attachments": {},
   "cell_type": "markdown",
   "metadata": {},
   "source": [
    "7. Devise an experiment to verify that get item and set item are O(1) for dictionaries."
   ]
  },
  {
   "cell_type": "code",
   "execution_count": 2,
   "metadata": {},
   "outputs": [
    {
     "name": "stdout",
     "output_type": "stream",
     "text": [
      "0.16273551299999411\n",
      "0.2477655719999987\n"
     ]
    }
   ],
   "source": [
    "dic1 = {i: i for i in range(1, 11)}\n",
    "dic2 = {i: i for i in range(1, 100000)}\n",
    "\n",
    "# n is a ranodm index in dic1\n",
    "n = random.randint(0, len(dic1)-1)\n",
    "n2 = random.randint(0, len(dic2)-1)\n",
    "\n",
    "def test1():\n",
    "    return dic1[n]\n",
    "print(timeit.timeit(\"test1()\", setup=\"from __main__ import test1\"))\n",
    "\n",
    "# verify with dic2\n",
    "def test2():\n",
    "    return dic2[n2]\n",
    "print(timeit.timeit(\"test2()\", setup=\"from __main__ import test2\"))\n",
    "\n"
   ]
  },
  {
   "attachments": {},
   "cell_type": "markdown",
   "metadata": {},
   "source": [
    "8. Devise an experiment that compares the performance of the del operator on lists and dictionaries. "
   ]
  },
  {
   "cell_type": "code",
   "execution_count": 3,
   "metadata": {},
   "outputs": [
    {
     "name": "stdout",
     "output_type": "stream",
     "text": [
      "0.40010247800000087\n",
      "0.3867472689999971\n"
     ]
    }
   ],
   "source": [
    "list1 = [random.randint(0, 100000) for i in range(100000)]\n",
    "dic1 = {i: i for i in range(100000)}\n",
    "\n",
    "def test1():\n",
    "    for i in range(len(list1)):\n",
    "        list1.pop()\n",
    "print(timeit.timeit(\"test1()\", setup=\"from __main__ import test1\"))\n",
    "\n",
    "def test2():\n",
    "    for i in range(len(dic1)):\n",
    "        dic1.popitem()\n",
    "print(timeit.timeit(\"test2()\", setup=\"from __main__ import test2\"))"
   ]
  },
  {
   "attachments": {},
   "cell_type": "markdown",
   "metadata": {},
   "source": [
    "9. Given a list of numbers in random order, write an algorithm that works in \n",
    "O(n(log(n))) to find the \n",
    "kth smallest number in the list."
   ]
  },
  {
   "cell_type": "code",
   "execution_count": 12,
   "metadata": {},
   "outputs": [
    {
     "name": "stdout",
     "output_type": "stream",
     "text": [
      "[68, 19, 75, 19, 53, 63, 83, 16, 48, 20]\n",
      "48\n"
     ]
    }
   ],
   "source": [
    "# create a random list of 10 numbers\n",
    "list1 = [random.randint(0, 100) for i in range(10)]\n",
    "\n",
    "def find_k_smallest(list1, k):\n",
    "    list1.sort()\n",
    "    return list1[k-1]\n",
    "\n",
    "print(list1)\n",
    "print(find_k_smallest(list1, 5))"
   ]
  },
  {
   "attachments": {},
   "cell_type": "markdown",
   "metadata": {},
   "source": [
    "10. Can you improve the algorithm from the previous problem to be linear? Explain.\n",
    "\n",
    "Nop, because we need to sort the list first, and that is O(n(log(n))) in the best case"
   ]
  }
 ],
 "metadata": {
  "kernelspec": {
   "display_name": "base",
   "language": "python",
   "name": "python3"
  },
  "language_info": {
   "codemirror_mode": {
    "name": "ipython",
    "version": 3
   },
   "file_extension": ".py",
   "mimetype": "text/x-python",
   "name": "python",
   "nbconvert_exporter": "python",
   "pygments_lexer": "ipython3",
   "version": "3.9.15"
  },
  "orig_nbformat": 4
 },
 "nbformat": 4,
 "nbformat_minor": 2
}
