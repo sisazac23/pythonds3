{
 "cells": [
  {
   "attachments": {},
   "cell_type": "markdown",
   "metadata": {},
   "source": [
    "6. Devise an experiment to verify that the list index operator is O(1)."
   ]
  },
  {
   "cell_type": "code",
   "execution_count": 8,
   "metadata": {},
   "outputs": [
    {
     "name": "stdout",
     "output_type": "stream",
     "text": [
      "0.08408370199981618\n",
      "0.07101540300004672\n"
     ]
    }
   ],
   "source": [
    "list1 = list(range(1, 11))\n",
    "list2 = list(range(1, 100000))\n",
    "\n",
    "\n",
    "import timeit\n",
    "import random \n",
    "\n",
    "n = random.randint(0, len(list1)-1)\n",
    "n2 = random.randint(0, len(list2)-1)\n",
    "\n",
    "def test1():\n",
    "    # n is a random index in list1\n",
    "    \n",
    "    return list1[n]\n",
    "print(timeit.timeit(\"test1()\", setup=\"from __main__ import test1\"))\n",
    "\n",
    "# verify with list2\n",
    "def test2():\n",
    "    return list2[n2]\n",
    "print(timeit.timeit(\"test2()\", setup=\"from __main__ import test2\"))"
   ]
  },
  {
   "attachments": {},
   "cell_type": "markdown",
   "metadata": {},
   "source": [
    "7. Devise an experiment to verify that get item and set item are O(1) for dictionaries."
   ]
  },
  {
   "cell_type": "code",
   "execution_count": 13,
   "metadata": {},
   "outputs": [
    {
     "name": "stdout",
     "output_type": "stream",
     "text": [
      "0.12972150099994906\n",
      "0.12129639999989195\n"
     ]
    }
   ],
   "source": [
    "dic1 = {i: i for i in range(1, 11)}\n",
    "dic2 = {i: i for i in range(1, 100000)}\n",
    "\n",
    "# n is a ranodm index in dic1\n",
    "n = random.randint(0, len(dic1)-1)\n",
    "n2 = random.randint(0, len(dic2)-1)\n",
    "\n",
    "def test1():\n",
    "    return dic1[n]\n",
    "print(timeit.timeit(\"test1()\", setup=\"from __main__ import test1\"))\n",
    "\n",
    "# verify with dic2\n",
    "def test2():\n",
    "    return dic2[n2]\n",
    "print(timeit.timeit(\"test2()\", setup=\"from __main__ import test2\"))\n",
    "\n"
   ]
  },
  {
   "attachments": {},
   "cell_type": "markdown",
   "metadata": {},
   "source": [
    "8. Devise an experiment that compares the performance of the del operator on lists and dictionaries. "
   ]
  },
  {
   "cell_type": "code",
   "execution_count": 18,
   "metadata": {},
   "outputs": [
    {
     "name": "stdout",
     "output_type": "stream",
     "text": [
      "0.14990829699991082\n",
      "0.14923538899984123\n"
     ]
    }
   ],
   "source": [
    "list1 = [random.randint(0, 100000) for i in range(100000)]\n",
    "dic1 = {i: i for i in range(100000)}\n",
    "\n",
    "def test1():\n",
    "    for i in range(len(list1)):\n",
    "        list1.pop()\n",
    "print(timeit.timeit(\"test1()\", setup=\"from __main__ import test1\"))\n",
    "\n",
    "def test2():\n",
    "    for i in range(len(dic1)):\n",
    "        dic1.popitem()\n",
    "print(timeit.timeit(\"test2()\", setup=\"from __main__ import test2\"))"
   ]
  },
  {
   "attachments": {},
   "cell_type": "markdown",
   "metadata": {},
   "source": [
    "9. Given a list of numbers in random order, write an algorithm that works in \n",
    "O(n(log(n))) to find the \n",
    "kth smallest number in the list."
   ]
  },
  {
   "cell_type": "code",
   "execution_count": 21,
   "metadata": {},
   "outputs": [
    {
     "data": {
      "text/plain": [
       "[45, 82, 56, 40, 37, 78, 81, 85, 51, 98]"
      ]
     },
     "execution_count": 21,
     "metadata": {},
     "output_type": "execute_result"
    }
   ],
   "source": [
    "# create a random list of 10 numbers\n",
    "list1 = [random.randint(0, 100) for i in range(10)]\n"
   ]
  },
  {
   "attachments": {},
   "cell_type": "markdown",
   "metadata": {},
   "source": [
    "10. Can you improve the algorithm from the previous problem to be linear? Explain."
   ]
  }
 ],
 "metadata": {
  "kernelspec": {
   "display_name": "base",
   "language": "python",
   "name": "python3"
  },
  "language_info": {
   "codemirror_mode": {
    "name": "ipython",
    "version": 3
   },
   "file_extension": ".py",
   "mimetype": "text/x-python",
   "name": "python",
   "nbconvert_exporter": "python",
   "pygments_lexer": "ipython3",
   "version": "3.9.15"
  },
  "orig_nbformat": 4
 },
 "nbformat": 4,
 "nbformat_minor": 2
}
